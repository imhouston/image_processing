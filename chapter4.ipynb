{
 "cells": [
  {
   "cell_type": "markdown",
   "metadata": {},
   "source": [
    "####  Глава 4. Фильтрация изображений\n",
    "#### 4.1 Операция свертки. Линейные фильтры"
   ]
  },
  {
   "cell_type": "code",
   "execution_count": 1,
   "metadata": {},
   "outputs": [],
   "source": [
    "import numpy as np\n",
    "from skimage.io import imread, imshow\n",
    "from skimage.color import rgb2gray\n",
    "from skimage import img_as_ubyte\n",
    "from scipy.signal import convolve2d\n",
    "import matplotlib.pyplot as plt\n",
    "%matplotlib inline"
   ]
  },
  {
   "cell_type": "markdown",
   "metadata": {},
   "source": [
    "#### 4.1.1. Свертка\n",
    "Выполните свертку изображения\n",
    "\\begin{bmatrix}\n",
    "0 & -8 & -3 & -2\\\\\n",
    "1 & 9 & -8 & 0\\\\\n",
    "9 & -4 & 5 & -9\\\\\n",
    "6 & -4 & 6 & 3\n",
    "\\end{bmatrix}\n",
    "с ядром\n",
    "\\begin{bmatrix}\n",
    "4 & -5 & 4 \\\\\n",
    "-6 & -8 & -2\\\\\n",
    "1 & 5 & 5\n",
    "\\end{bmatrix}\n",
    "Результат выпишите построчно через пробел."
   ]
  },
  {
   "cell_type": "code",
   "execution_count": 2,
   "metadata": {},
   "outputs": [
    {
     "name": "stdout",
     "output_type": "stream",
     "text": [
      "[[  7 -88]\n",
      " [ 94  -7]]\n"
     ]
    }
   ],
   "source": [
    "image = np.array([[0, -8, -3, -2], \n",
    "                [1, 9, -8, 0], \n",
    "                [9, -4, 5, -9], \n",
    "                [6, -4, 6, 3]])\n",
    "\n",
    "kernel = np.array([[4, -5, 4], \n",
    "                   [-6, -8, -2], \n",
    "                   [1, 5, 5]])\n",
    "\n",
    "print(convolve2d(kernel, image, mode='valid'))"
   ]
  },
  {
   "cell_type": "markdown",
   "metadata": {},
   "source": [
    "#### Box-фильтр.\n",
    "\n",
    "Реализуйте box-фильтрацию изображения окном 5×5 пикселей. Дополнять изображение не нужно (т.е. изображение после фильтрации уменьшится). "
   ]
  },
  {
   "cell_type": "code",
   "execution_count": 3,
   "metadata": {},
   "outputs": [],
   "source": [
    "img = imread(\"https://stepik.org/media/attachments/lesson/61037/tiger-gray-small.png\")\n",
    "img2 = imread(\"https://stepik.org/media/attachments/lesson/61037/box-tiger.png\")"
   ]
  },
  {
   "cell_type": "code",
   "execution_count": 4,
   "metadata": {},
   "outputs": [],
   "source": [
    "def box_filter(img, size):\n",
    "    res = np.zeros((img.shape[0]-size+1, img.shape[1]-size+1), dtype=np.int)\n",
    "\n",
    "    for i in range (img.shape[0]-size+1):\n",
    "        for j in range (img.shape[1]-size+1):\n",
    "\n",
    "            a = 0\n",
    "            for k in range (size):\n",
    "                for n in range (size):\n",
    "                    a = a + img[i + k, j + n]\n",
    "\n",
    "            res [i, j] = int (a / size**2)\n",
    "    return res"
   ]
  },
  {
   "cell_type": "code",
   "execution_count": 5,
   "metadata": {},
   "outputs": [
    {
     "data": {
      "text/plain": [
       "True"
      ]
     },
     "execution_count": 5,
     "metadata": {},
     "output_type": "execute_result"
    }
   ],
   "source": [
    "img = box_filter(img, 5)\n",
    "np.array_equal(img2, img)"
   ]
  },
  {
   "cell_type": "markdown",
   "metadata": {},
   "source": [
    "#### Размер гауссовского фильтра\n",
    "Какого размера (K) должен быть гауссовский фильтр для 𝜎=4?\n",
    "\n",
    "`4*2*3+1 = 25`"
   ]
  },
  {
   "cell_type": "markdown",
   "metadata": {},
   "source": [
    "#### Подсчет функции Гаусса\n",
    "На вход подаются три числа: 𝜎, 𝑥, 𝑦. Подсчитайте значение функции Гаусса в этой точке. Формула для функции Гаусса: \\begin{equation*}G_{\\sigma}(x, y) = \\frac{1}{2\\pi\\sigma^2}e^{\\frac{-x^2-y^2}{2\\sigma^2}}\\end{equation*}"
   ]
  },
  {
   "cell_type": "code",
   "execution_count": 6,
   "metadata": {},
   "outputs": [
    {
     "data": {
      "text/plain": [
       "0.05854983152431917"
      ]
     },
     "execution_count": 6,
     "metadata": {},
     "output_type": "execute_result"
    }
   ],
   "source": [
    "def gauss(sigma, x, y):\n",
    "    return 1/((2*np.pi)*sigma**2)*np.e**((-x**2 - y**2)/(2*sigma**2))\n",
    "\n",
    "sigma, x, y = [1, 1, 1]\n",
    "gauss(sigma, x, y)"
   ]
  },
  {
   "cell_type": "markdown",
   "metadata": {},
   "source": [
    "#### Ядро гауссовского фильтра\n",
    "\n",
    "На стандартный вход подается параметр 𝜎 гауссовского фильтра. Подсчитайте и напечатайте на стандартый вывод элементы ядра. Для подсчета значений функции Гаусса используйте функцию из предыдущего задания. 𝜎 может быть нецелым, тогда округлите 𝐾 с помощью функции round. Элементы ядра выводите с 5 цифрами после запятой."
   ]
  },
  {
   "cell_type": "code",
   "execution_count": 7,
   "metadata": {},
   "outputs": [],
   "source": [
    "def gauss_kernel(sigma):\n",
    "    k = round(3*sigma)\n",
    "    kernel = [[gauss(sigma, x, y) for x in range(-k, k+1)] for y in range(-k, k+1)]\n",
    "    kernel = np.array(kernel)\n",
    "    norm_kernel = kernel / np.sum(kernel, axis=(0,1))\n",
    "    return norm_kernel"
   ]
  },
  {
   "cell_type": "code",
   "execution_count": 9,
   "metadata": {},
   "outputs": [
    {
     "name": "stdout",
     "output_type": "stream",
     "text": [
      "0.00010 0.00974 0.00010\n",
      "0.00974 0.96065 0.00974\n",
      "0.00010 0.00974 0.00010\n"
     ]
    }
   ],
   "source": [
    "kernel = gauss_kernel(0.33)\n",
    "print('\\n'.join([' '.join(['{:.5f}'.format(item) for item in row]) for row in kernel]))"
   ]
  },
  {
   "cell_type": "markdown",
   "metadata": {},
   "source": [
    "####  Гауссовская фильтрация.\n",
    "\n",
    "Профильтруйте изображение гауссовским ядром с 𝜎=0.66. Для подсчета ядра используйте функцию из предыдущего задания. При подсчете новых значений изображения не забывайте обрезать их с помощью numpy.clip. Дополнять изображение не нужно (т.е. изображение после фильтрации уменьшится)."
   ]
  },
  {
   "cell_type": "code",
   "execution_count": 13,
   "metadata": {},
   "outputs": [],
   "source": [
    "img = imread(\"https://stepik.org/media/attachments/lesson/61037/tiger-gray-small.png\")\n",
    "img2 = imread(\"https://stepik.org/media/attachments/lesson/61037/gaussian-tiger.png\")"
   ]
  },
  {
   "cell_type": "code",
   "execution_count": 14,
   "metadata": {},
   "outputs": [
    {
     "name": "stdout",
     "output_type": "stream",
     "text": [
      "True\n"
     ]
    }
   ],
   "source": [
    "sigma = 0.66\n",
    "kernel = gauss_kernel(sigma)\n",
    "img = convolve2d(img, kernel, mode='valid').astype('uint8')\n",
    "print(np.array_equal(img2, img))"
   ]
  },
  {
   "cell_type": "markdown",
   "metadata": {},
   "source": [
    "#### Повышение резкости изображения.\n",
    "Реализуйте повышение четкости изображения путём фильтрации изображения с ядром\n",
    "\\begin{equation*}\\frac{1}{10}\n",
    "\\begin{bmatrix}\n",
    "-1 & -2 & -1 \\\\\n",
    "-2 & 22 & -2 \\\\\n",
    "-1 & -2 & -1\n",
    "\\end{bmatrix}\\end{equation*}\n",
    "При подсчете новых значений изображения не забывайте обрезать их с помощью numpy.clip. Дополнять изображение не нужно (т.е. изображение после фильтрации уменьшится)."
   ]
  },
  {
   "cell_type": "code",
   "execution_count": 15,
   "metadata": {},
   "outputs": [],
   "source": [
    "img = imread('https://stepik.org/media/attachments/lesson/61037/tiger-gray-small.png')\n",
    "img2 = imread('https://stepik.org/media/attachments/lesson/61037/unsharp-tiger.png')"
   ]
  },
  {
   "cell_type": "code",
   "execution_count": 16,
   "metadata": {},
   "outputs": [],
   "source": [
    "def sharpening(img):\n",
    "    res = np.array([[[0] * img.shape[1]] * img.shape[0]], dtype='float')[0]\n",
    "\n",
    "    kernel = np.array([[-1, -2, -1],\n",
    "                       [-2, 22, -2],\n",
    "                       [-1, -2, -1]]) / 10\n",
    "\n",
    "    for i in range(3, img.shape[0] + 1):\n",
    "        for j in range(3, img.shape[1] + 1):\n",
    "            res[i - 3, j - 3] = (img[i-3: i, j-3: j] * kernel).sum()\n",
    "\n",
    "\n",
    "    res = np.clip(res[: - 2, : - 2], 0, 255).astype('uint8')\n",
    "    return res"
   ]
  },
  {
   "cell_type": "code",
   "execution_count": 17,
   "metadata": {},
   "outputs": [
    {
     "data": {
      "text/plain": [
       "True"
      ]
     },
     "execution_count": 17,
     "metadata": {},
     "output_type": "execute_result"
    }
   ],
   "source": [
    "img = sharpening(img)\n",
    "np.array_equal(img2, img)"
   ]
  },
  {
   "cell_type": "markdown",
   "metadata": {},
   "source": [
    "#### 4.2 Медианный фильтр\n",
    "Шум - соль и перец. Выброс - outlier заменяется на медиану. Фильтр не имеет собственное ядро.\n",
    "#### Медианный фильтр\n",
    "Реализуйте медианную фильтрацию изображения окном 7×7 пикселей. Дополнять изображение не нужно (т.е. изображение после фильтрации уменьшится). "
   ]
  },
  {
   "cell_type": "code",
   "execution_count": 24,
   "metadata": {},
   "outputs": [],
   "source": [
    "img = imread('https://stepik.org/media/attachments/lesson/61041/tiger-gray-small.png')\n",
    "img2 = imread('https://stepik.org/media/attachments/lesson/61041/median-tiger.png')"
   ]
  },
  {
   "cell_type": "code",
   "execution_count": 25,
   "metadata": {},
   "outputs": [],
   "source": [
    "def median_filter(img, size):\n",
    "    res = img.copy()\n",
    "    rows,cols = img.shape\n",
    "    half = size//2\n",
    "\n",
    "    for i in range(half,rows-half):\n",
    "        for j in range(half,cols-half):\n",
    "            a = img[i-half:i+half+1,j-half:j+half+1]\n",
    "            m = np.median(a)\n",
    "            res[i][j] = m\n",
    "\n",
    "    res = res[half:rows-half,half:cols-half]\n",
    "    return res"
   ]
  },
  {
   "cell_type": "code",
   "execution_count": 26,
   "metadata": {},
   "outputs": [
    {
     "data": {
      "text/plain": [
       "True"
      ]
     },
     "execution_count": 26,
     "metadata": {},
     "output_type": "execute_result"
    }
   ],
   "source": [
    "img = median_filter(img, 7)\n",
    "np.array_equal(img2, img)"
   ]
  },
  {
   "cell_type": "markdown",
   "metadata": {},
   "source": [
    "### 4.2.2. Медианный фильтр\n",
    "Предположим, что мы хотим профильтровать изображение размером 600 строк и 800 столбцов с помощью алгоритма быстрой медианной фильтрации окном размера 7x7 пикселей. Будем накладывать окно так, чтобы оно не выходило за границы изображения (т.е. в результате фильтрации изображение уменьшится).\n",
    "\n",
    "Сколько раз алгоритму потребуется инициализировать гистограмму H?\n",
    "\n",
    "`594`\n",
    "\n",
    "### 4.2.3. Медианный фильтр\n",
    "Сколько раз алгоритму потребуется обновить гистограмму H (т.е. сдвинуть окно на 1 пиксель вправо)?\n",
    "\n",
    "`471042`"
   ]
  }
 ],
 "metadata": {
  "kernelspec": {
   "display_name": "Python 3",
   "language": "python",
   "name": "python3"
  },
  "language_info": {
   "codemirror_mode": {
    "name": "ipython",
    "version": 3
   },
   "file_extension": ".py",
   "mimetype": "text/x-python",
   "name": "python",
   "nbconvert_exporter": "python",
   "pygments_lexer": "ipython3",
   "version": "3.7.2"
  }
 },
 "nbformat": 4,
 "nbformat_minor": 2
}
